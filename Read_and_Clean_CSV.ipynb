{
 "cells": [
  {
   "cell_type": "code",
   "execution_count": 1,
   "metadata": {},
   "outputs": [],
   "source": [
    "import pandas as pd"
   ]
  },
  {
   "cell_type": "code",
   "execution_count": 22,
   "metadata": {},
   "outputs": [],
   "source": [
    "file_one = \"/Users/georgesehremelis/Downloads/LABusinesses/inspections.csv\""
   ]
  },
  {
   "cell_type": "code",
   "execution_count": 23,
   "metadata": {},
   "outputs": [],
   "source": [
    "file_one_df = pd.read_csv(file_one)"
   ]
  },
  {
   "cell_type": "code",
   "execution_count": 24,
   "metadata": {},
   "outputs": [
    {
     "data": {
      "text/html": [
       "<div>\n",
       "<style scoped>\n",
       "    .dataframe tbody tr th:only-of-type {\n",
       "        vertical-align: middle;\n",
       "    }\n",
       "\n",
       "    .dataframe tbody tr th {\n",
       "        vertical-align: top;\n",
       "    }\n",
       "\n",
       "    .dataframe thead th {\n",
       "        text-align: right;\n",
       "    }\n",
       "</style>\n",
       "<table border=\"1\" class=\"dataframe\">\n",
       "  <thead>\n",
       "    <tr style=\"text-align: right;\">\n",
       "      <th></th>\n",
       "      <th>business_id</th>\n",
       "      <th>score</th>\n",
       "      <th>date</th>\n",
       "      <th>description</th>\n",
       "      <th>type</th>\n",
       "    </tr>\n",
       "  </thead>\n",
       "  <tbody>\n",
       "    <tr>\n",
       "      <th>0</th>\n",
       "      <td>PR0014182</td>\n",
       "      <td>95</td>\n",
       "      <td>20170207</td>\n",
       "      <td>NaN</td>\n",
       "      <td>Routine</td>\n",
       "    </tr>\n",
       "    <tr>\n",
       "      <th>1</th>\n",
       "      <td>PR0005730</td>\n",
       "      <td>99</td>\n",
       "      <td>20161216</td>\n",
       "      <td>NaN</td>\n",
       "      <td>Routine</td>\n",
       "    </tr>\n",
       "    <tr>\n",
       "      <th>2</th>\n",
       "      <td>PR0003877</td>\n",
       "      <td>96</td>\n",
       "      <td>20170105</td>\n",
       "      <td>NaN</td>\n",
       "      <td>Routine</td>\n",
       "    </tr>\n",
       "    <tr>\n",
       "      <th>3</th>\n",
       "      <td>PR0014471</td>\n",
       "      <td>98</td>\n",
       "      <td>20180921</td>\n",
       "      <td>NaN</td>\n",
       "      <td>Routine</td>\n",
       "    </tr>\n",
       "    <tr>\n",
       "      <th>4</th>\n",
       "      <td>PR0003383</td>\n",
       "      <td>99</td>\n",
       "      <td>20170818</td>\n",
       "      <td>NaN</td>\n",
       "      <td>Routine</td>\n",
       "    </tr>\n",
       "  </tbody>\n",
       "</table>\n",
       "</div>"
      ],
      "text/plain": [
       "  business_id  score      date  description     type\n",
       "0   PR0014182     95  20170207          NaN  Routine\n",
       "1   PR0005730     99  20161216          NaN  Routine\n",
       "2   PR0003877     96  20170105          NaN  Routine\n",
       "3   PR0014471     98  20180921          NaN  Routine\n",
       "4   PR0003383     99  20170818          NaN  Routine"
      ]
     },
     "execution_count": 24,
     "metadata": {},
     "output_type": "execute_result"
    }
   ],
   "source": [
    "file_one_df.head()"
   ]
  },
  {
   "cell_type": "code",
   "execution_count": 45,
   "metadata": {},
   "outputs": [],
   "source": [
    "file_two = \"/Users/georgesehremelis/Downloads/LABusinesses/businesses.csv\""
   ]
  },
  {
   "cell_type": "code",
   "execution_count": null,
   "metadata": {},
   "outputs": [],
   "source": []
  },
  {
   "cell_type": "code",
   "execution_count": 46,
   "metadata": {},
   "outputs": [],
   "source": [
    "file_two_df = pd.read_csv(file_two, encoding=\"ISO-8859-1\")"
   ]
  },
  {
   "cell_type": "code",
   "execution_count": 47,
   "metadata": {
    "scrolled": true
   },
   "outputs": [
    {
     "data": {
      "text/html": [
       "<div>\n",
       "<style scoped>\n",
       "    .dataframe tbody tr th:only-of-type {\n",
       "        vertical-align: middle;\n",
       "    }\n",
       "\n",
       "    .dataframe tbody tr th {\n",
       "        vertical-align: top;\n",
       "    }\n",
       "\n",
       "    .dataframe thead th {\n",
       "        text-align: right;\n",
       "    }\n",
       "</style>\n",
       "<table border=\"1\" class=\"dataframe\">\n",
       "  <thead>\n",
       "    <tr style=\"text-align: right;\">\n",
       "      <th></th>\n",
       "      <th>business_id</th>\n",
       "      <th>name</th>\n",
       "      <th>address</th>\n",
       "      <th>city</th>\n",
       "      <th>state</th>\n",
       "      <th>postal_code</th>\n",
       "      <th>latitude</th>\n",
       "      <th>longitude</th>\n",
       "      <th>phone_number</th>\n",
       "    </tr>\n",
       "  </thead>\n",
       "  <tbody>\n",
       "    <tr>\n",
       "      <th>0</th>\n",
       "      <td>PR0000206</td>\n",
       "      <td>JOSYLN SENIOR CENTER</td>\n",
       "      <td>210 N CHAPEL AVE</td>\n",
       "      <td>ALHAMBRA</td>\n",
       "      <td>CA</td>\n",
       "      <td>91801</td>\n",
       "      <td>34.098526</td>\n",
       "      <td>-118.124767</td>\n",
       "      <td>626-960-2995</td>\n",
       "    </tr>\n",
       "    <tr>\n",
       "      <th>1</th>\n",
       "      <td>PR0000213</td>\n",
       "      <td>STARBUCKS COFFEE #9685</td>\n",
       "      <td>145 N CITRUS AVE</td>\n",
       "      <td>COVINA</td>\n",
       "      <td>CA</td>\n",
       "      <td>91723</td>\n",
       "      <td>34.087327</td>\n",
       "      <td>-117.890460</td>\n",
       "      <td>NaN</td>\n",
       "    </tr>\n",
       "    <tr>\n",
       "      <th>2</th>\n",
       "      <td>PR0000250</td>\n",
       "      <td>VFW POST NO. 6110</td>\n",
       "      <td>16555 SIERRA HWY</td>\n",
       "      <td>CANYON COUNTRY</td>\n",
       "      <td>CA</td>\n",
       "      <td>91351-1338</td>\n",
       "      <td>34.447567</td>\n",
       "      <td>-118.426207</td>\n",
       "      <td>661-252-9989</td>\n",
       "    </tr>\n",
       "    <tr>\n",
       "      <th>3</th>\n",
       "      <td>PR0000273</td>\n",
       "      <td>STABUCKS @ VONS #2066</td>\n",
       "      <td>18439 VENTURA BLVD</td>\n",
       "      <td>TARZANA</td>\n",
       "      <td>CA</td>\n",
       "      <td>91356</td>\n",
       "      <td>34.168381</td>\n",
       "      <td>-118.534570</td>\n",
       "      <td>NaN</td>\n",
       "    </tr>\n",
       "    <tr>\n",
       "      <th>4</th>\n",
       "      <td>PR0000278</td>\n",
       "      <td>COCOHODO TORRANCE</td>\n",
       "      <td>2734 SEPULVEDA BLVD</td>\n",
       "      <td>TORRANCE</td>\n",
       "      <td>CA</td>\n",
       "      <td>90505</td>\n",
       "      <td>33.822488</td>\n",
       "      <td>-118.333178</td>\n",
       "      <td>310-530-3875</td>\n",
       "    </tr>\n",
       "  </tbody>\n",
       "</table>\n",
       "</div>"
      ],
      "text/plain": [
       "  business_id                    name               address            city  \\\n",
       "0   PR0000206    JOSYLN SENIOR CENTER     210 N CHAPEL AVE         ALHAMBRA   \n",
       "1   PR0000213  STARBUCKS COFFEE #9685     145 N CITRUS AVE           COVINA   \n",
       "2   PR0000250       VFW POST NO. 6110     16555 SIERRA HWY   CANYON COUNTRY   \n",
       "3   PR0000273   STABUCKS @ VONS #2066   18439 VENTURA BLVD          TARZANA   \n",
       "4   PR0000278       COCOHODO TORRANCE  2734 SEPULVEDA BLVD         TORRANCE   \n",
       "\n",
       "  state postal_code   latitude   longitude  phone_number  \n",
       "0    CA       91801  34.098526 -118.124767  626-960-2995  \n",
       "1    CA       91723  34.087327 -117.890460           NaN  \n",
       "2    CA  91351-1338  34.447567 -118.426207  661-252-9989  \n",
       "3    CA       91356  34.168381 -118.534570           NaN  \n",
       "4    CA       90505  33.822488 -118.333178  310-530-3875  "
      ]
     },
     "execution_count": 47,
     "metadata": {},
     "output_type": "execute_result"
    }
   ],
   "source": [
    "file_two_df.head()"
   ]
  },
  {
   "cell_type": "code",
   "execution_count": null,
   "metadata": {},
   "outputs": [],
   "source": []
  },
  {
   "cell_type": "code",
   "execution_count": null,
   "metadata": {},
   "outputs": [],
   "source": []
  },
  {
   "cell_type": "code",
   "execution_count": null,
   "metadata": {},
   "outputs": [],
   "source": []
  },
  {
   "cell_type": "code",
   "execution_count": null,
   "metadata": {},
   "outputs": [],
   "source": []
  }
 ],
 "metadata": {
  "kernelspec": {
   "display_name": "Python 3",
   "language": "python",
   "name": "python3"
  },
  "language_info": {
   "codemirror_mode": {
    "name": "ipython",
    "version": 3
   },
   "file_extension": ".py",
   "mimetype": "text/x-python",
   "name": "python",
   "nbconvert_exporter": "python",
   "pygments_lexer": "ipython3",
   "version": "3.7.1"
  }
 },
 "nbformat": 4,
 "nbformat_minor": 2
}
